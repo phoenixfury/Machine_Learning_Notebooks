{
 "cells": [
  {
   "cell_type": "markdown",
   "metadata": {
    "pycharm": {
     "name": "#%% md\n"
    }
   },
   "source": [
    "\n",
    "# Lab-4:\n",
    "In this lab, we will examine some classifiers and the regularization concept in the classification problem.\n",
    "Also, we will see\n",
    "\n",
    "### Objectives:\n",
    "1. Lasso and Ridge\n",
    "2. Naïve Bayes\n",
    "3. KNN\n",
    "4. Cross Validation\n",
    "\n",
    "---\n",
    "<span style=\"color:red\">\n",
    "   L1, L2 regularization they act as a constraint region for the coefficients, where their values should reside in it.\n",
    "   It works by Adding to the cost function  a term of summation of all absolute values/squared values of the weights.\n",
    "\n",
    "   L2 constraint is spherical shape which is more felixible than the L1 constraint area\n",
    "   which is like rhombus\n",
    "\n",
    "   L1 may force some coeffeicient to be zero when lambda is large enough, so l1 regularization could be treated as kind of variable selection and it can produce sparse model.\n",
    "\n",
    "</span>\n",
    "\n",
    "## Lasso and Ridge\n",
    "Both models are the regularized forms of the linear regression.\n",
    "Lass with L1 regularization and Ridge with L2 regularization.\n",
    "Both act as a constraint region for the coeffeicients/weight, where they must reside in.\n",
    "\n",
    "### Issues:\n",
    "1. When to use Lasso?\n",
    "<span style=\"color:blue\">\n",
    "\n",
    "    1. Used when there are only a few predictors actually impact the response.\n",
    "    2. It can be used as a feature selection algorithm, with the appropriate value of lambda, a sparse model can be produced.\n",
    "2. When to use Ridge?\n",
    "<span style=\"color:blue\">\n",
    "Used when there are many of predictors and most of them influence the response.\n",
    "\n",
    "3. Since it is hard to decide the parameters influence, How we can decide which regularization? and decide the value of lambda?\n",
    "<span style=\"color:blue\">\n",
    "Using the cross validation!\n",
    "\n",
    "\n",
    "### Loading Boston dataset\n",
    "Housing-Prices Values in Suburbs of Boston."
   ]
  },
  {
   "cell_type": "code",
   "execution_count": 1,
   "metadata": {
    "collapsed": false,
    "jupyter": {
     "outputs_hidden": false
    },
    "pycharm": {
     "name": "#%%\n"
    }
   },
   "outputs": [],
   "source": [
    "from sklearn.datasets import load_boston\n",
    "from sklearn.model_selection import train_test_split\n",
    "\n",
    "X, y = load_boston(return_X_y=True)\n",
    "x_train, x_test, y_train, y_test = train_test_split(X, y, test_size=0.2, random_state=123)\n",
    "x_train, x_val, y_train, y_val = train_test_split(x_train, y_train, test_size=1/8, random_state=123)"
   ]
  },
  {
   "cell_type": "markdown",
   "metadata": {
    "pycharm": {
     "name": "#%% md\n"
    }
   },
   "source": [
    "### Fitting both Lasso and Ridge\n",
    "Task:\n",
    "\n",
    "Fit two models: Lasso and Ridge - with the default alpha-.\n",
    "Then print their coefficients and notice the difference."
   ]
  },
  {
   "cell_type": "code",
   "execution_count": 2,
   "metadata": {
    "collapsed": false,
    "jupyter": {
     "outputs_hidden": false
    },
    "pycharm": {
     "name": "#%%\n"
    }
   },
   "outputs": [
    {
     "name": "stdout",
     "output_type": "stream",
     "text": [
      "Lasso Coefficient [-6.29657633e-02  3.50956640e-02  0.00000000e+00  0.00000000e+00\n",
      " -0.00000000e+00  2.26979134e+00  6.77955847e-04 -6.45065773e-01\n",
      "  1.93545727e-01 -1.35087027e-02 -6.45345873e-01  4.49042185e-03\n",
      " -6.73150676e-01]\n",
      "Ridge Coefficient [-1.11057981e-01  3.65852805e-02  4.69212854e-02  6.03824135e-01\n",
      " -6.97460565e+00  5.11864285e+00 -2.69870227e-02 -1.22824280e+00\n",
      "  2.49139807e-01 -1.39899765e-02 -8.47813312e-01  6.95422088e-03\n",
      " -4.68816487e-01]\n"
     ]
    }
   ],
   "source": [
    "from sklearn.linear_model import Lasso, Ridge\n",
    "\n",
    "lasso = Lasso()\n",
    "ridge = Ridge()\n",
    "lasso.fit(x_train, y_train)\n",
    "ridge.fit(x_train, y_train)\n",
    "\n",
    "print(\"Lasso Coefficient\", lasso.coef_)\n",
    "print(\"Ridge Coefficient\", ridge.coef_)"
   ]
  },
  {
   "cell_type": "markdown",
   "metadata": {
    "pycharm": {
     "name": "#%% md\n"
    }
   },
   "source": [
    "Task: Let's try different values for alpha for Lasso regressor and plot the validation loss."
   ]
  },
  {
   "cell_type": "code",
   "execution_count": 3,
   "metadata": {
    "collapsed": false,
    "jupyter": {
     "outputs_hidden": false
    },
    "pycharm": {
     "name": "#%%\n"
    }
   },
   "outputs": [
    {
     "data": {
      "image/png": "[encoded data removed]",
      "text/plain": [
       "<Figure size 432x288 with 1 Axes>"
      ]
     },
     "metadata": {
      "needs_background": "light"
     },
     "output_type": "display_data"
    },
    {
     "name": "stdout",
     "output_type": "stream",
     "text": [
      "Best value of alpha: 1.3\n"
     ]
    }
   ],
   "source": [
    "import matplotlib.pylab as plt\n",
    "import numpy as np\n",
    "from sklearn.metrics import mean_squared_error\n",
    "%matplotlib inline\n",
    "\n",
    "alphas = [2.2, 2, 1.5, 1.3, 1.2, 1.1, 1, 0.3, 0.1]\n",
    "losses = []\n",
    "for alpha in alphas:\n",
    "    # Write (5 lines): create a Lasso regressor with the alpha value.\n",
    "    # Fit it to the training set, then get the prediction of the validation set (x_val).\n",
    "    # calculate the mean sqaured error loss, then append it to the losses array\n",
    "    lasso = Lasso(alpha=alpha)\n",
    "    lasso.fit(x_train, y_train)\n",
    "    y_pred = lasso.predict(x_val)\n",
    "    mse = mean_squared_error(y_val, y_pred)\n",
    "    losses.append(mse)\n",
    "plt.plot(alphas, losses)\n",
    "plt.xlabel(\"alpha\")\n",
    "plt.ylabel(\"Mean squared error\")\n",
    "plt.show()\n",
    "\n",
    "best_alpha = alphas[np.argmin(losses)]\n",
    "print(\"Best value of alpha:\", best_alpha)"
   ]
  },
  {
   "cell_type": "markdown",
   "metadata": {
    "pycharm": {
     "name": "#%% md\n"
    }
   },
   "source": [
    "Measuring the loss on the testset with Lasso regressor with the best alpha."
   ]
  },
  {
   "cell_type": "code",
   "execution_count": 4,
   "metadata": {
    "collapsed": false,
    "jupyter": {
     "outputs_hidden": false
    },
    "pycharm": {
     "name": "#%%\n"
    }
   },
   "outputs": [
    {
     "name": "stdout",
     "output_type": "stream",
     "text": [
      "MSE on testset: 31.953762880829828\n"
     ]
    }
   ],
   "source": [
    "lasso = Lasso(best_alpha)\n",
    "lasso.fit(x_train, y_train)\n",
    "y_pred = lasso.predict(x_test)\n",
    "print(\"MSE on testset:\", mean_squared_error(y_test, y_pred))"
   ]
  },
  {
   "cell_type": "markdown",
   "metadata": {
    "pycharm": {
     "name": "#%% md\n"
    }
   },
   "source": [
    "## Loading the iris dataset\n",
    "Dataset of 3 types/classes of flowers with 4 features. Suitable for classification!"
   ]
  },
  {
   "cell_type": "code",
   "execution_count": 11,
   "metadata": {
    "collapsed": false,
    "jupyter": {
     "outputs_hidden": false
    },
    "pycharm": {
     "name": "#%%\n"
    }
   },
   "outputs": [],
   "source": [
    "from sklearn.datasets import load_digits\n",
    "\n",
    "X, y = load_digits(return_X_y=True)\n",
    "x_train, x_test, y_train, y_test = train_test_split(X, y, test_size=0.2, random_state=12345)\n",
    "# We will show why we didn't split a validation set."
   ]
  },
  {
   "cell_type": "markdown",
   "metadata": {
    "pycharm": {
     "name": "#%% md\n"
    }
   },
   "source": [
    "## Naïve Bayes\n",
    "___\n",
    "<span style=\"color:red\">\n",
    "   in any predictive ML algo, we want to model P(y|x)\n",
    "\n",
    "   P(y|x) = P(x|y) * P(y) / (P(x))\n",
    "   we want the value of class y that maximize this probability.\n",
    "\n",
    "   y_c = argmax(P(x|y) * P(y) / P(x))\n",
    "\n",
    "   y_c = argmax(P(x|y))\n",
    "   but isn't one variabe yes, it is a vector of features.\n",
    "\n",
    "   P([x0, x1, x2, .. , xn]|y), these are intersecting probability\n",
    "\n",
    "   P(x0|y) * p(x1|y) * ... * p(xn|y)\n",
    "   \n",
    "</span>\n",
    "___\n",
    "\n",
    "We will use the Gaussian Naïve Bayes, that deals -as a assumption- with the continous features as gaussian variables to compute their probability.\n",
    "\n",
    "$$P(x_i|y) = \\frac{1}{\\sqrt{2\\pi\\sigma_y^2}}exp(-\\frac{(x_i - \\mu_y)^2}{2\\sigma_y^2})$$\n",
    "\n",
    "While $\\mu_y$ and $\\sigma_y^2$ are the mean and the variance of the feature $i$ for class $y$.\n",
    "\n",
    "Note: The different naive Bayes classifiers differ mainly by the assumptions they make regarding the distribution of $P(x_i|y)$.\n",
    "\n",
    "___\n",
    "What are the pros and cons of Naive bayes classifier?\n",
    "\n",
    "<span style=\"color:blue\">\n",
    "Pros:\n",
    "\n",
    "1. Fast training time, as it needs only one pass through the dataset to compute the posterior probabilities and the statistical info.\n",
    "2. Fast prediction time, as all the posterior probabilities are calculated, passing through the feature values is enough.\n",
    "3. Interpretation, Since we know the contribution of each feature in the prediction, it is easy to understand their influence on the preidiction.\n",
    "4. Allows online learning. Check the documentation of $partial\\_fit$ function in the GaussianNB class.\n",
    "\n",
    "Cons:\n",
    "The features independence assumption doesn't hold usually in the real life, which make Naive Bayes less accurate than other ML algorithms.\n",
    "___"
   ]
  },
  {
   "cell_type": "markdown",
   "metadata": {},
   "source": [
    "Let's train a naive-bayes model and check the test accuracy.\n"
   ]
  },
  {
   "cell_type": "code",
   "execution_count": 12,
   "metadata": {
    "collapsed": false,
    "jupyter": {
     "outputs_hidden": false
    },
    "pycharm": {
     "name": "#%%\n"
    }
   },
   "outputs": [
    {
     "name": "stdout",
     "output_type": "stream",
     "text": [
      "0.8444444444444444\n"
     ]
    }
   ],
   "source": [
    "from sklearn.naive_bayes import GaussianNB\n",
    "from sklearn.metrics import accuracy_score\n",
    "\n",
    "gauss_nb = GaussianNB()\n",
    "gauss_nb.fit(x_train, y_train)\n",
    "y_pred = gauss_nb.predict(x_test)\n",
    "print(accuracy_score(y_test, y_pred))"
   ]
  },
  {
   "cell_type": "markdown",
   "metadata": {
    "pycharm": {
     "name": "#%% md\n"
    }
   },
   "source": [
    "## K nearest neighbour classifier\n",
    "1. What are the pros and cons of KNN?\n",
    "\n",
    "    <span style=\"color:blue\">\n",
    "\n",
    "   Pros:\n",
    "    1. Simple to understand and interpret.\n",
    "    2. Flexible as it can be used for classification and regression.\n",
    "    3. No assumptions about dataset, so it is useful for example in nonlinear data.\n",
    "\n",
    "  Cons:\n",
    "    1. Computationally and memory expensive. As, it needs to store all the training data. The searching time could be logarithmic, if a tree was used in the storage.\n",
    "    2. Sensitive to irrelevant features and the scale of the features. So, rescaling the features is important preprocessing step.\n",
    "    3. In regression, it can't give a continuous prediction, as it can't predict any value outside the training set range.\n",
    "    4. It doesn't scale good when the number of dimensions gets so big as the distance metric will converge to a constant value between any given examples.\n",
    "         (so we may need to reduce dimensions first).\n",
    "\n",
    "2. To increase the variance of KNN model, should we increase or decrease the K?\n",
    "    <span style=\"color:blue\">\n",
    "    We should decrease the K value, as the model will be more sensitive to the training set.\n",
    "    Very small value of  K (e.g., K = 1), will overfit the trainset and get training accuracy of 1.\n",
    "    And a very big value of K (e.g., K = Inf), will make a very simple model and predict the majority class always."
   ]
  },
  {
   "cell_type": "markdown",
   "metadata": {
    "pycharm": {
     "name": "#%% md\n"
    }
   },
   "source": [
    "___\n",
    "Let's do the same with KNN classifier.\n",
    "\n",
    "\n",
    "Rescale the features first."
   ]
  },
  {
   "cell_type": "code",
   "execution_count": 13,
   "metadata": {
    "collapsed": false,
    "jupyter": {
     "outputs_hidden": false
    },
    "pycharm": {
     "name": "#%%\n"
    }
   },
   "outputs": [],
   "source": [
    "from sklearn.preprocessing import StandardScaler\n",
    "\n",
    "scaler = StandardScaler()\n",
    "x_train = scaler.fit_transform(x_train)\n",
    "x_test = scaler.transform(x_test)"
   ]
  },
  {
   "cell_type": "code",
   "execution_count": 14,
   "metadata": {
    "collapsed": false,
    "jupyter": {
     "outputs_hidden": false
    },
    "pycharm": {
     "name": "#%%\n"
    }
   },
   "outputs": [
    {
     "name": "stdout",
     "output_type": "stream",
     "text": [
      "0.9805555555555555\n"
     ]
    }
   ],
   "source": [
    "from sklearn.neighbors import KNeighborsClassifier\n",
    "from sklearn.metrics import accuracy_score\n",
    "\n",
    "knn = KNeighborsClassifier()\n",
    "knn.fit(x_train, y_train)\n",
    "y_pred = knn.predict(x_test)\n",
    "print(accuracy_score(y_test, y_pred))"
   ]
  },
  {
   "cell_type": "markdown",
   "metadata": {
    "pycharm": {
     "name": "#%% md\n"
    }
   },
   "source": [
    "Let's tune the hyperparameter $n\\_neighbors$ in the KNN classifier object using the cross-validation.\n",
    "\n",
    "___\n",
    "## Cross Validation\n",
    "Cross validation comes as an alternative for the validation set splitting.\n",
    "\n",
    "Note: that's why we didn't make a validation set."
   ]
  },
  {
   "cell_type": "code",
   "execution_count": 15,
   "metadata": {
    "collapsed": false,
    "jupyter": {
     "outputs_hidden": false
    },
    "pycharm": {
     "name": "#%%\n"
    }
   },
   "outputs": [
    {
     "data": {
      "image/png": "[encoded data removed]",
      "text/plain": [
       "<Figure size 432x288 with 1 Axes>"
      ]
     },
     "metadata": {
      "needs_background": "light"
     },
     "output_type": "display_data"
    },
    {
     "name": "stdout",
     "output_type": "stream",
     "text": [
      "[0.9721524982240114, 0.9617096850580156, 0.9714691654544839, 0.9714556341125131, 0.9742430905585061, 0.9707587700010148, 0.9700619058895166, 0.9665775853320253, 0.9644971415040086, 0.9644903758330232, 0.9644937586685158, 0.9617130678935083, 0.9610195866175028, 0.9624166976759919, 0.9624133148404993, 0.9568384019485132, 0.9568417847840058, 0.9554480565610094, 0.952663982950509]\n",
      "5\n"
     ]
    }
   ],
   "source": [
    "from sklearn.model_selection import cross_val_score\n",
    "import matplotlib.pylab as plt\n",
    "import numpy as np\n",
    "%matplotlib inline\n",
    "\n",
    "Ks = list(range(1, 20))\n",
    "cv_scores = []\n",
    "for K in Ks:\n",
    "    knn = KNeighborsClassifier(n_neighbors=K)\n",
    "    scores = cross_val_score(knn, x_train, y_train,\n",
    "                             cv=7, scoring='accuracy')\n",
    "    avg_score = np.mean(scores)\n",
    "    cv_scores.append(avg_score)\n",
    "\n",
    "plt.plot(Ks, cv_scores)\n",
    "plt.show()\n",
    "print(cv_scores)\n",
    "print(Ks[np.argmax(cv_scores)])"
   ]
  },
  {
   "cell_type": "markdown",
   "metadata": {
    "pycharm": {
     "name": "#%% md\n"
    }
   },
   "source": [
    "In KNN classifier, there're several hyperparamters to tune, tuning them one by one is exhaustive approach.\n",
    "Let's try a better approach called GridSearchCV.\n",
    "\n",
    "\n",
    "### GridSearchCV\n",
    "In GridSearch Cross-validation, you give different values for each hyperparamter and it will try all combinations for you.\n",
    "At the end, it will return the best combination of hyperparamters that got the best cross-validation score.\n",
    "\n",
    "Task:\n",
    "Use gridsearch to tune 3 hyperparameters:\n",
    "\n",
    "1. $n\\_neighbors$: [1, 2, . . ., 10]\n",
    "2. $weights$: ['uniform', 'distance']\n",
    "3. $metric$: ['euclidean', 'manhattan', 'chebyshev', 'cosine']\n",
    "\n",
    "Check this [link](https://scikit-learn.org/stable/modules/grid_search.html) for help.\n",
    "\n",
    "Then measure the accuracy on the testset."
   ]
  },
  {
   "cell_type": "code",
   "execution_count": 16,
   "metadata": {
    "collapsed": false,
    "jupyter": {
     "outputs_hidden": false
    },
    "pycharm": {
     "name": "#%%\n"
    }
   },
   "outputs": [
    {
     "name": "stdout",
     "output_type": "stream",
     "text": [
      "0.972 (+/-0.015) for {'metric': 'euclidean', 'n_neighbors': 1, 'weights': 'uniform'}\n",
      "0.972 (+/-0.015) for {'metric': 'euclidean', 'n_neighbors': 1, 'weights': 'distance'}\n",
      "0.962 (+/-0.024) for {'metric': 'euclidean', 'n_neighbors': 2, 'weights': 'uniform'}\n",
      "0.972 (+/-0.015) for {'metric': 'euclidean', 'n_neighbors': 2, 'weights': 'distance'}\n",
      "0.971 (+/-0.012) for {'metric': 'euclidean', 'n_neighbors': 3, 'weights': 'uniform'}\n",
      "0.974 (+/-0.009) for {'metric': 'euclidean', 'n_neighbors': 3, 'weights': 'distance'}\n",
      "0.971 (+/-0.015) for {'metric': 'euclidean', 'n_neighbors': 4, 'weights': 'uniform'}\n",
      "0.975 (+/-0.010) for {'metric': 'euclidean', 'n_neighbors': 4, 'weights': 'distance'}\n",
      "0.974 (+/-0.014) for {'metric': 'euclidean', 'n_neighbors': 5, 'weights': 'uniform'}\n",
      "0.972 (+/-0.009) for {'metric': 'euclidean', 'n_neighbors': 5, 'weights': 'distance'}\n",
      "0.971 (+/-0.018) for {'metric': 'euclidean', 'n_neighbors': 6, 'weights': 'uniform'}\n",
      "0.974 (+/-0.017) for {'metric': 'euclidean', 'n_neighbors': 6, 'weights': 'distance'}\n",
      "0.970 (+/-0.018) for {'metric': 'euclidean', 'n_neighbors': 7, 'weights': 'uniform'}\n",
      "0.971 (+/-0.015) for {'metric': 'euclidean', 'n_neighbors': 7, 'weights': 'distance'}\n",
      "0.967 (+/-0.026) for {'metric': 'euclidean', 'n_neighbors': 8, 'weights': 'uniform'}\n",
      "0.971 (+/-0.023) for {'metric': 'euclidean', 'n_neighbors': 8, 'weights': 'distance'}\n",
      "0.964 (+/-0.021) for {'metric': 'euclidean', 'n_neighbors': 9, 'weights': 'uniform'}\n",
      "0.968 (+/-0.021) for {'metric': 'euclidean', 'n_neighbors': 9, 'weights': 'distance'}\n",
      "0.964 (+/-0.026) for {'metric': 'euclidean', 'n_neighbors': 10, 'weights': 'uniform'}\n",
      "0.969 (+/-0.023) for {'metric': 'euclidean', 'n_neighbors': 10, 'weights': 'distance'}\n",
      "0.976 (+/-0.012) for {'metric': 'manhattan', 'n_neighbors': 1, 'weights': 'uniform'}\n",
      "0.976 (+/-0.012) for {'metric': 'manhattan', 'n_neighbors': 1, 'weights': 'distance'}\n",
      "0.963 (+/-0.018) for {'metric': 'manhattan', 'n_neighbors': 2, 'weights': 'uniform'}\n",
      "0.976 (+/-0.012) for {'metric': 'manhattan', 'n_neighbors': 2, 'weights': 'distance'}\n",
      "0.972 (+/-0.016) for {'metric': 'manhattan', 'n_neighbors': 3, 'weights': 'uniform'}\n",
      "0.974 (+/-0.014) for {'metric': 'manhattan', 'n_neighbors': 3, 'weights': 'distance'}\n",
      "0.971 (+/-0.023) for {'metric': 'manhattan', 'n_neighbors': 4, 'weights': 'uniform'}\n",
      "0.977 (+/-0.017) for {'metric': 'manhattan', 'n_neighbors': 4, 'weights': 'distance'}\n",
      "0.971 (+/-0.021) for {'metric': 'manhattan', 'n_neighbors': 5, 'weights': 'uniform'}\n",
      "0.972 (+/-0.021) for {'metric': 'manhattan', 'n_neighbors': 5, 'weights': 'distance'}\n",
      "0.970 (+/-0.024) for {'metric': 'manhattan', 'n_neighbors': 6, 'weights': 'uniform'}\n",
      "0.976 (+/-0.022) for {'metric': 'manhattan', 'n_neighbors': 6, 'weights': 'distance'}\n",
      "0.965 (+/-0.022) for {'metric': 'manhattan', 'n_neighbors': 7, 'weights': 'uniform'}\n",
      "0.969 (+/-0.021) for {'metric': 'manhattan', 'n_neighbors': 7, 'weights': 'distance'}\n",
      "0.962 (+/-0.024) for {'metric': 'manhattan', 'n_neighbors': 8, 'weights': 'uniform'}\n",
      "0.969 (+/-0.023) for {'metric': 'manhattan', 'n_neighbors': 8, 'weights': 'distance'}\n",
      "0.961 (+/-0.027) for {'metric': 'manhattan', 'n_neighbors': 9, 'weights': 'uniform'}\n",
      "0.964 (+/-0.025) for {'metric': 'manhattan', 'n_neighbors': 9, 'weights': 'distance'}\n",
      "0.962 (+/-0.023) for {'metric': 'manhattan', 'n_neighbors': 10, 'weights': 'uniform'}\n",
      "0.965 (+/-0.024) for {'metric': 'manhattan', 'n_neighbors': 10, 'weights': 'distance'}\n",
      "0.937 (+/-0.021) for {'metric': 'chebyshev', 'n_neighbors': 1, 'weights': 'uniform'}\n",
      "0.937 (+/-0.021) for {'metric': 'chebyshev', 'n_neighbors': 1, 'weights': 'distance'}\n",
      "0.926 (+/-0.030) for {'metric': 'chebyshev', 'n_neighbors': 2, 'weights': 'uniform'}\n",
      "0.935 (+/-0.029) for {'metric': 'chebyshev', 'n_neighbors': 2, 'weights': 'distance'}\n",
      "0.926 (+/-0.018) for {'metric': 'chebyshev', 'n_neighbors': 3, 'weights': 'uniform'}\n",
      "0.935 (+/-0.022) for {'metric': 'chebyshev', 'n_neighbors': 3, 'weights': 'distance'}\n",
      "0.923 (+/-0.026) for {'metric': 'chebyshev', 'n_neighbors': 4, 'weights': 'uniform'}\n",
      "0.932 (+/-0.019) for {'metric': 'chebyshev', 'n_neighbors': 4, 'weights': 'distance'}\n",
      "0.919 (+/-0.025) for {'metric': 'chebyshev', 'n_neighbors': 5, 'weights': 'uniform'}\n",
      "0.926 (+/-0.024) for {'metric': 'chebyshev', 'n_neighbors': 5, 'weights': 'distance'}\n",
      "0.919 (+/-0.028) for {'metric': 'chebyshev', 'n_neighbors': 6, 'weights': 'uniform'}\n",
      "0.927 (+/-0.020) for {'metric': 'chebyshev', 'n_neighbors': 6, 'weights': 'distance'}\n",
      "0.917 (+/-0.028) for {'metric': 'chebyshev', 'n_neighbors': 7, 'weights': 'uniform'}\n",
      "0.924 (+/-0.024) for {'metric': 'chebyshev', 'n_neighbors': 7, 'weights': 'distance'}\n",
      "0.913 (+/-0.022) for {'metric': 'chebyshev', 'n_neighbors': 8, 'weights': 'uniform'}\n",
      "0.921 (+/-0.019) for {'metric': 'chebyshev', 'n_neighbors': 8, 'weights': 'distance'}\n",
      "0.909 (+/-0.032) for {'metric': 'chebyshev', 'n_neighbors': 9, 'weights': 'uniform'}\n",
      "0.914 (+/-0.030) for {'metric': 'chebyshev', 'n_neighbors': 9, 'weights': 'distance'}\n",
      "0.901 (+/-0.036) for {'metric': 'chebyshev', 'n_neighbors': 10, 'weights': 'uniform'}\n",
      "0.914 (+/-0.022) for {'metric': 'chebyshev', 'n_neighbors': 10, 'weights': 'distance'}\n",
      "0.967 (+/-0.019) for {'metric': 'cosine', 'n_neighbors': 1, 'weights': 'uniform'}\n",
      "0.967 (+/-0.019) for {'metric': 'cosine', 'n_neighbors': 1, 'weights': 'distance'}\n",
      "0.955 (+/-0.022) for {'metric': 'cosine', 'n_neighbors': 2, 'weights': 'uniform'}\n",
      "0.967 (+/-0.019) for {'metric': 'cosine', 'n_neighbors': 2, 'weights': 'distance'}\n",
      "0.961 (+/-0.009) for {'metric': 'cosine', 'n_neighbors': 3, 'weights': 'uniform'}\n",
      "0.965 (+/-0.016) for {'metric': 'cosine', 'n_neighbors': 3, 'weights': 'distance'}\n",
      "0.960 (+/-0.025) for {'metric': 'cosine', 'n_neighbors': 4, 'weights': 'uniform'}\n",
      "0.964 (+/-0.022) for {'metric': 'cosine', 'n_neighbors': 4, 'weights': 'distance'}\n",
      "0.961 (+/-0.025) for {'metric': 'cosine', 'n_neighbors': 5, 'weights': 'uniform'}\n",
      "0.960 (+/-0.021) for {'metric': 'cosine', 'n_neighbors': 5, 'weights': 'distance'}\n",
      "0.960 (+/-0.024) for {'metric': 'cosine', 'n_neighbors': 6, 'weights': 'uniform'}\n",
      "0.962 (+/-0.026) for {'metric': 'cosine', 'n_neighbors': 6, 'weights': 'distance'}\n",
      "0.960 (+/-0.035) for {'metric': 'cosine', 'n_neighbors': 7, 'weights': 'uniform'}\n",
      "0.962 (+/-0.027) for {'metric': 'cosine', 'n_neighbors': 7, 'weights': 'distance'}\n",
      "0.954 (+/-0.032) for {'metric': 'cosine', 'n_neighbors': 8, 'weights': 'uniform'}\n",
      "0.962 (+/-0.032) for {'metric': 'cosine', 'n_neighbors': 8, 'weights': 'distance'}\n",
      "0.953 (+/-0.026) for {'metric': 'cosine', 'n_neighbors': 9, 'weights': 'uniform'}\n",
      "0.958 (+/-0.030) for {'metric': 'cosine', 'n_neighbors': 9, 'weights': 'distance'}\n",
      "0.951 (+/-0.028) for {'metric': 'cosine', 'n_neighbors': 10, 'weights': 'uniform'}\n",
      "0.960 (+/-0.034) for {'metric': 'cosine', 'n_neighbors': 10, 'weights': 'distance'}\n",
      "\n",
      "Best parameters set found on development set:\n",
      "\n",
      "{'metric': 'manhattan', 'n_neighbors': 4, 'weights': 'distance'}\n",
      "0.9944444444444445\n"
     ]
    }
   ],
   "source": [
    "from sklearn.model_selection import GridSearchCV\n",
    "\n",
    "# Modify the next lines to run GridSearchCV with cv=7\n",
    "param_grid = {'n_neighbors':list(range(1, 11)),\n",
    "              'weights':['uniform', 'distance'],\n",
    "              'metric':['euclidean', 'manhattan', 'chebyshev', 'cosine']\n",
    "              }\n",
    "\n",
    "grid_search_clf = GridSearchCV(estimator=KNeighborsClassifier(),\n",
    "                               cv=7, scoring='accuracy',\n",
    "                               param_grid=param_grid\n",
    "                               )\n",
    "\n",
    "grid_search_clf.fit(x_train, y_train)\n",
    "means = grid_search_clf.cv_results_['mean_test_score']\n",
    "stds = grid_search_clf.cv_results_['std_test_score']\n",
    "for mean, std, params in zip(means, stds, grid_search_clf.cv_results_['params']):\n",
    "    print(\"%0.3f (+/-%0.03f) for %r\"\n",
    "        % (mean, std * 2, params))\n",
    "print()\n",
    "print(\"Best parameters set found on development set:\")\n",
    "print()\n",
    "print(grid_search_clf.best_params_)\n",
    "\n",
    "y_pred = grid_search_clf.predict(x_test)\n",
    "print(accuracy_score(y_test, y_pred))"
   ]
  },
  {
   "cell_type": "code",
   "execution_count": null,
   "metadata": {
    "collapsed": false,
    "jupyter": {
     "outputs_hidden": false
    },
    "pycharm": {
     "name": "#%%\n"
    }
   },
   "outputs": [],
   "source": []
  }
 ],
 "metadata": {
  "kernelspec": {
   "display_name": "Python 3",
   "language": "python",
   "name": "python3"
  },
  "language_info": {
   "codemirror_mode": {
    "name": "ipython",
    "version": 3
   },
   "file_extension": ".py",
   "mimetype": "text/x-python",
   "name": "python",
   "nbconvert_exporter": "python",
   "pygments_lexer": "ipython3",
   "version": "3.6.12"
  }
 },
 "nbformat": 4,
 "nbformat_minor": 4
}
